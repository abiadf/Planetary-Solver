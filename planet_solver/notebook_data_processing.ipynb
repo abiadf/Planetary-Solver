{
 "cells": [
  {
   "cell_type": "code",
   "execution_count": null,
   "metadata": {},
   "outputs": [],
   "source": [
    "import os\n",
    "\n",
    "from astropy.time import Time\n",
    "import lightkurve as lk\n",
    "import matplotlib.pyplot as plt\n",
    "import numpy as np\n",
    "import pandas as pd"
   ]
  },
  {
   "cell_type": "code",
   "execution_count": null,
   "metadata": {},
   "outputs": [],
   "source": [
    "'''Get CSV to pandas df'''\n",
    "\n",
    "def get_csv_file_to_df(directory):\n",
    "    '''This function gets a csv file and makes a pandas df out of it\n",
    "    OUTPUT: df of the csv file'''\n",
    "\n",
    "    if os.path.exists(directory):\n",
    "        files = os.listdir(directory)\n",
    "        if len(files) > 0:\n",
    "            print(f\"there are {len(files)} files: {files}, taking '{files[0]}'\")\n",
    "            csv_file_path = os.path.join(directory, files[0]) #take 1st file\n",
    "            df = pd.read_csv(csv_file_path)\n",
    "    return df\n",
    "\n",
    "directory = r'C:\\Planetary_Solver\\input'\n",
    "df = get_csv_file_to_df(directory)\n"
   ]
  },
  {
   "cell_type": "code",
   "execution_count": null,
   "metadata": {},
   "outputs": [],
   "source": [
    "cols_to_drop= ['intentType', 'proposal_type', 'jpegURL', 'dataURL', 'obs_title', 'srcDen', \\\n",
    "               'target_classification', 'dataRights', 'mtFlag']\n",
    "df_dropped  = df.drop(columns = cols_to_drop)\n",
    "\n",
    "# ['intentType', 'obs_collection', 'provenance_name', 'instrument_name', 'project', 'filters',\n",
    "# 'wavelength_region', 'target_name', 'target_classification', 'obs_id', 's_ra', 's_dec',\n",
    "# 'dataproduct_type', 'proposal_pi', 'calib_level', 't_min', 't_max', 't_exptime', 'em_min',\n",
    "# 'em_max', 'obs_title', 't_obs_release', 'proposal_id', 'proposal_type', 'sequence_number', 's_region',\n",
    "#  'jpegURL', 'dataURL', 'dataRights', 'mtFlag', 'srcDen', 'obsid', 'distance']\n"
   ]
  },
  {
   "cell_type": "code",
   "execution_count": null,
   "metadata": {},
   "outputs": [],
   "source": [
    "\n",
    "pixelfile = lk.search_targetpixelfile(\"Trappist-1\")[1].download()\n",
    "pixelfile.plot(frame=11)\n",
    "plt.show()\n",
    "\n",
    "lc = pixelfile.to_lightcurve(aperture_mask='all')#(method=\"pld\").remove_outliers().flatten()\n",
    "lc.plot()\n",
    "plt.show()\n",
    "\n",
    "# period = lc.to_periodogram(\"bls\").period_at_max_power\n",
    "# lc.fold(period).truncate(-.5, -.25).scatter()"
   ]
  },
  {
   "cell_type": "code",
   "execution_count": null,
   "metadata": {},
   "outputs": [],
   "source": [
    "# KIC 6922244\n",
    "pixelFile= lk.search_targetpixelfile('KIC 6922244', quarter=4).download()\n",
    "lc       = pixelFile.to_lightcurve(aperture_mask= pixelFile.pipeline_mask).remove_nans()\n",
    "flat_lc  = lc.flatten(window_length=401)\n",
    "\n",
    "periodogram= flat_lc.to_periodogram(method = 'bls', period= np.arange(0.5, 2, 0.001))\n",
    "period     = periodogram.period_at_max_power\n",
    "\n",
    "folded_lc  = flat_lc.fold(period=period)\n",
    "\n",
    "binned_lc  = folded_lc.bin(binsize = 25)\n",
    "binned_lc.plot()\n",
    "plt.show()\n"
   ]
  },
  {
   "cell_type": "code",
   "execution_count": null,
   "metadata": {},
   "outputs": [],
   "source": [
    "# Pi Mensae\n",
    "search_result= lk.search_targetpixelfile('Pi Mensae', mission = 'TESS', sector = 1)\n",
    "tpf          = search_result.download(quality_bitmask = 'default')\n",
    "lc           = tpf.to_lightcurve()\n",
    "\n",
    "aperture_mask= tpf.create_threshold_mask(threshold = 10)\n",
    "lc           = tpf.to_lightcurve(aperture_mask = aperture_mask)\n",
    "\n",
    "flat_lc = lc.flatten(window_length = 1000)\n",
    "flat_lc.errorbar()\n",
    "plt.show()\n",
    "\n",
    "start_time= Time(1346, format='jd')\n",
    "end_time  = Time(1350, format='jd')\n",
    "mask      = (flat_lc.time < start_time) | (flat_lc.time > end_time)\n",
    "masked_lc = flat_lc[mask]\n",
    "\n",
    "clipped_lc= masked_lc.remove_outliers(sigma=6)\n",
    "\n",
    "periodogram= clipped_lc.to_periodogram(method = 'bls', period= np.arange(0.5, 10, 0.001))\n",
    "period     = periodogram.period_at_max_power\n",
    "\n",
    "shift_graph_by_days = 1325\n",
    "folder_lc  = clipped_lc.fold(period = period, t0 = shift_graph_by_days)\n",
    "\n",
    "binned_lc = folded_lc.bin(binsize = 15)\n",
    "binned_lc.scatter(s=0.1)\n",
    "plt.show()\n"
   ]
  },
  {
   "cell_type": "code",
   "execution_count": null,
   "metadata": {},
   "outputs": [],
   "source": []
  }
 ],
 "metadata": {
  "kernelspec": {
   "display_name": "venv",
   "language": "python",
   "name": "python3"
  },
  "language_info": {
   "codemirror_mode": {
    "name": "ipython",
    "version": 3
   },
   "file_extension": ".py",
   "mimetype": "text/x-python",
   "name": "python",
   "nbconvert_exporter": "python",
   "pygments_lexer": "ipython3",
   "version": "3.11.4"
  }
 },
 "nbformat": 4,
 "nbformat_minor": 2
}
